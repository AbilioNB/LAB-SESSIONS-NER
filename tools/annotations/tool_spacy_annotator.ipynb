{
 "cells": [
  {
   "cell_type": "markdown",
   "metadata": {},
   "source": [
    "# Spacy Annotator"
   ]
  },
  {
   "cell_type": "markdown",
   "metadata": {},
   "source": [
    "### 1- Instalando "
   ]
  },
  {
   "cell_type": "code",
   "execution_count": 1,
   "metadata": {},
   "outputs": [
    {
     "name": "stdout",
     "output_type": "stream",
     "text": [
      "Requirement already satisfied: spacy-annotator in c:\\users\\abili\\anaconda3\\lib\\site-packages (2.1.4)\n",
      "Requirement already satisfied: ipython in c:\\users\\abili\\anaconda3\\lib\\site-packages (from spacy-annotator) (8.20.0)\n",
      "Requirement already satisfied: ipywidgets>=8 in c:\\users\\abili\\anaconda3\\lib\\site-packages (from spacy-annotator) (8.1.2)\n",
      "Requirement already satisfied: pandas in c:\\users\\abili\\anaconda3\\lib\\site-packages (from spacy-annotator) (1.5.3)\n",
      "Requirement already satisfied: spacy in c:\\users\\abili\\anaconda3\\lib\\site-packages (from spacy-annotator) (3.7.4)\n",
      "Requirement already satisfied: comm>=0.1.3 in c:\\users\\abili\\anaconda3\\lib\\site-packages (from ipywidgets>=8->spacy-annotator) (0.2.2)\n",
      "Requirement already satisfied: traitlets>=4.3.1 in c:\\users\\abili\\anaconda3\\lib\\site-packages (from ipywidgets>=8->spacy-annotator) (5.7.1)\n",
      "Requirement already satisfied: widgetsnbextension~=4.0.10 in c:\\users\\abili\\anaconda3\\lib\\site-packages (from ipywidgets>=8->spacy-annotator) (4.0.10)\n",
      "Requirement already satisfied: jupyterlab-widgets~=3.0.10 in c:\\users\\abili\\anaconda3\\lib\\site-packages (from ipywidgets>=8->spacy-annotator) (3.0.10)\n",
      "Requirement already satisfied: decorator in c:\\users\\abili\\anaconda3\\lib\\site-packages (from ipython->spacy-annotator) (5.1.1)\n",
      "Requirement already satisfied: jedi>=0.16 in c:\\users\\abili\\anaconda3\\lib\\site-packages (from ipython->spacy-annotator) (0.18.1)\n",
      "Requirement already satisfied: matplotlib-inline in c:\\users\\abili\\anaconda3\\lib\\site-packages (from ipython->spacy-annotator) (0.1.6)\n",
      "Requirement already satisfied: prompt-toolkit<3.1.0,>=3.0.41 in c:\\users\\abili\\anaconda3\\lib\\site-packages (from ipython->spacy-annotator) (3.0.43)\n",
      "Requirement already satisfied: pygments>=2.4.0 in c:\\users\\abili\\anaconda3\\lib\\site-packages (from ipython->spacy-annotator) (2.15.1)\n",
      "Requirement already satisfied: stack-data in c:\\users\\abili\\anaconda3\\lib\\site-packages (from ipython->spacy-annotator) (0.2.0)\n",
      "Requirement already satisfied: colorama in c:\\users\\abili\\anaconda3\\lib\\site-packages (from ipython->spacy-annotator) (0.4.6)\n",
      "Requirement already satisfied: python-dateutil>=2.8.1 in c:\\users\\abili\\anaconda3\\lib\\site-packages (from pandas->spacy-annotator) (2.8.2)\n",
      "Requirement already satisfied: pytz>=2020.1 in c:\\users\\abili\\anaconda3\\lib\\site-packages (from pandas->spacy-annotator) (2023.3.post1)\n",
      "Requirement already satisfied: numpy>=1.21.0 in c:\\users\\abili\\anaconda3\\lib\\site-packages (from pandas->spacy-annotator) (1.26.4)\n",
      "Requirement already satisfied: spacy-legacy<3.1.0,>=3.0.11 in c:\\users\\abili\\anaconda3\\lib\\site-packages (from spacy->spacy-annotator) (3.0.12)\n",
      "Requirement already satisfied: spacy-loggers<2.0.0,>=1.0.0 in c:\\users\\abili\\anaconda3\\lib\\site-packages (from spacy->spacy-annotator) (1.0.5)\n",
      "Requirement already satisfied: murmurhash<1.1.0,>=0.28.0 in c:\\users\\abili\\anaconda3\\lib\\site-packages (from spacy->spacy-annotator) (1.0.10)\n",
      "Requirement already satisfied: cymem<2.1.0,>=2.0.2 in c:\\users\\abili\\anaconda3\\lib\\site-packages (from spacy->spacy-annotator) (2.0.8)\n",
      "Requirement already satisfied: preshed<3.1.0,>=3.0.2 in c:\\users\\abili\\anaconda3\\lib\\site-packages (from spacy->spacy-annotator) (3.0.9)\n",
      "Requirement already satisfied: thinc<8.3.0,>=8.2.2 in c:\\users\\abili\\anaconda3\\lib\\site-packages (from spacy->spacy-annotator) (8.2.3)\n",
      "Requirement already satisfied: wasabi<1.2.0,>=0.9.1 in c:\\users\\abili\\anaconda3\\lib\\site-packages (from spacy->spacy-annotator) (1.1.2)\n",
      "Requirement already satisfied: srsly<3.0.0,>=2.4.3 in c:\\users\\abili\\anaconda3\\lib\\site-packages (from spacy->spacy-annotator) (2.4.8)\n",
      "Requirement already satisfied: catalogue<2.1.0,>=2.0.6 in c:\\users\\abili\\anaconda3\\lib\\site-packages (from spacy->spacy-annotator) (2.0.10)\n",
      "Requirement already satisfied: weasel<0.4.0,>=0.1.0 in c:\\users\\abili\\anaconda3\\lib\\site-packages (from spacy->spacy-annotator) (0.3.4)\n",
      "Requirement already satisfied: typer<0.10.0,>=0.3.0 in c:\\users\\abili\\anaconda3\\lib\\site-packages (from spacy->spacy-annotator) (0.9.4)\n",
      "Requirement already satisfied: smart-open<7.0.0,>=5.2.1 in c:\\users\\abili\\anaconda3\\lib\\site-packages (from spacy->spacy-annotator) (5.2.1)\n",
      "Requirement already satisfied: tqdm<5.0.0,>=4.38.0 in c:\\users\\abili\\anaconda3\\lib\\site-packages (from spacy->spacy-annotator) (4.65.0)\n",
      "Requirement already satisfied: requests<3.0.0,>=2.13.0 in c:\\users\\abili\\anaconda3\\lib\\site-packages (from spacy->spacy-annotator) (2.31.0)\n",
      "Requirement already satisfied: pydantic!=1.8,!=1.8.1,<3.0.0,>=1.7.4 in c:\\users\\abili\\anaconda3\\lib\\site-packages (from spacy->spacy-annotator) (2.7.0)\n",
      "Requirement already satisfied: jinja2 in c:\\users\\abili\\anaconda3\\lib\\site-packages (from spacy->spacy-annotator) (3.1.3)\n",
      "Requirement already satisfied: setuptools in c:\\users\\abili\\anaconda3\\lib\\site-packages (from spacy->spacy-annotator) (68.2.2)\n",
      "Requirement already satisfied: packaging>=20.0 in c:\\users\\abili\\anaconda3\\lib\\site-packages (from spacy->spacy-annotator) (23.1)\n",
      "Requirement already satisfied: langcodes<4.0.0,>=3.2.0 in c:\\users\\abili\\anaconda3\\lib\\site-packages (from spacy->spacy-annotator) (3.3.0)\n",
      "Requirement already satisfied: parso<0.9.0,>=0.8.0 in c:\\users\\abili\\anaconda3\\lib\\site-packages (from jedi>=0.16->ipython->spacy-annotator) (0.8.3)\n",
      "Requirement already satisfied: wcwidth in c:\\users\\abili\\anaconda3\\lib\\site-packages (from prompt-toolkit<3.1.0,>=3.0.41->ipython->spacy-annotator) (0.2.5)\n",
      "Requirement already satisfied: annotated-types>=0.4.0 in c:\\users\\abili\\anaconda3\\lib\\site-packages (from pydantic!=1.8,!=1.8.1,<3.0.0,>=1.7.4->spacy->spacy-annotator) (0.6.0)\n",
      "Requirement already satisfied: pydantic-core==2.18.1 in c:\\users\\abili\\anaconda3\\lib\\site-packages (from pydantic!=1.8,!=1.8.1,<3.0.0,>=1.7.4->spacy->spacy-annotator) (2.18.1)\n",
      "Requirement already satisfied: typing-extensions>=4.6.1 in c:\\users\\abili\\anaconda3\\lib\\site-packages (from pydantic!=1.8,!=1.8.1,<3.0.0,>=1.7.4->spacy->spacy-annotator) (4.9.0)\n",
      "Requirement already satisfied: six>=1.5 in c:\\users\\abili\\anaconda3\\lib\\site-packages (from python-dateutil>=2.8.1->pandas->spacy-annotator) (1.16.0)\n",
      "Requirement already satisfied: charset-normalizer<4,>=2 in c:\\users\\abili\\anaconda3\\lib\\site-packages (from requests<3.0.0,>=2.13.0->spacy->spacy-annotator) (2.0.4)\n",
      "Requirement already satisfied: idna<4,>=2.5 in c:\\users\\abili\\anaconda3\\lib\\site-packages (from requests<3.0.0,>=2.13.0->spacy->spacy-annotator) (3.4)\n",
      "Requirement already satisfied: urllib3<3,>=1.21.1 in c:\\users\\abili\\anaconda3\\lib\\site-packages (from requests<3.0.0,>=2.13.0->spacy->spacy-annotator) (2.0.7)\n",
      "Requirement already satisfied: certifi>=2017.4.17 in c:\\users\\abili\\anaconda3\\lib\\site-packages (from requests<3.0.0,>=2.13.0->spacy->spacy-annotator) (2024.2.2)\n",
      "Requirement already satisfied: blis<0.8.0,>=0.7.8 in c:\\users\\abili\\anaconda3\\lib\\site-packages (from thinc<8.3.0,>=8.2.2->spacy->spacy-annotator) (0.7.11)\n",
      "Requirement already satisfied: confection<1.0.0,>=0.0.1 in c:\\users\\abili\\anaconda3\\lib\\site-packages (from thinc<8.3.0,>=8.2.2->spacy->spacy-annotator) (0.1.4)\n",
      "Requirement already satisfied: click<9.0.0,>=7.1.1 in c:\\users\\abili\\anaconda3\\lib\\site-packages (from typer<0.10.0,>=0.3.0->spacy->spacy-annotator) (8.1.7)\n",
      "Requirement already satisfied: cloudpathlib<0.17.0,>=0.7.0 in c:\\users\\abili\\anaconda3\\lib\\site-packages (from weasel<0.4.0,>=0.1.0->spacy->spacy-annotator) (0.16.0)\n",
      "Requirement already satisfied: MarkupSafe>=2.0 in c:\\users\\abili\\anaconda3\\lib\\site-packages (from jinja2->spacy->spacy-annotator) (2.1.3)\n",
      "Requirement already satisfied: executing in c:\\users\\abili\\anaconda3\\lib\\site-packages (from stack-data->ipython->spacy-annotator) (0.8.3)\n",
      "Requirement already satisfied: asttokens in c:\\users\\abili\\anaconda3\\lib\\site-packages (from stack-data->ipython->spacy-annotator) (2.0.5)\n",
      "Requirement already satisfied: pure-eval in c:\\users\\abili\\anaconda3\\lib\\site-packages (from stack-data->ipython->spacy-annotator) (0.2.2)\n"
     ]
    }
   ],
   "source": [
    "!pip install spacy-annotator"
   ]
  },
  {
   "cell_type": "markdown",
   "metadata": {},
   "source": [
    "### 2- Importando libs"
   ]
  },
  {
   "cell_type": "code",
   "execution_count": 2,
   "metadata": {},
   "outputs": [],
   "source": [
    "import spacy_annotator as spa\n",
    "import spacy\n",
    "import pandas as pd"
   ]
  },
  {
   "cell_type": "code",
   "execution_count": 3,
   "metadata": {},
   "outputs": [],
   "source": [
    "df = pd.DataFrame({\n",
    "    \"text\": [\n",
    "        \"iPhone 11 64GB iOS Câmera 12MP - Apple\",\n",
    "        \"iPhone 15 Pro Max 1TB iOS 5G Wi-Fi Tela 6,7 - Apple\"\n",
    "    ]})"
   ]
  },
  {
   "cell_type": "code",
   "execution_count": 4,
   "metadata": {},
   "outputs": [],
   "source": [
    "annotator = spa.Annotator(labels=[\"NOME_PRODUTO\", \"MARCA\",\"CAPACIDADE\"])"
   ]
  },
  {
   "cell_type": "code",
   "execution_count": 5,
   "metadata": {},
   "outputs": [
    {
     "name": "stdout",
     "output_type": "stream",
     "text": [
      "\n",
      "            \u001b[1mInstructions\u001b[0m \n",
      "\n",
      "            For each entity type, input must be a DELIMITER separated string. \n",
      "\n",
      "            If no entities in text, leave as is and press submit.\n",
      "            Similarly, if no entities for a particular label, leave as is. \n",
      "\n",
      "            Buttons: \n",
      "\n",
      "            \t * submit inserts new annotation (or overwrites existing one if one is present). \n",
      "\n",
      "            \t * skip moves forward and leaves empty string (or existing annotation if one is present). \n",
      "\n",
      "            \t * finish terminates the annotation session.\n",
      "            \n"
     ]
    }
   ],
   "source": [
    "annotator.instructions"
   ]
  },
  {
   "cell_type": "code",
   "execution_count": 6,
   "metadata": {},
   "outputs": [
    {
     "data": {
      "application/vnd.jupyter.widget-view+json": {
       "model_id": "de5d5a06dfe149d29040e57c02765325",
       "version_major": 2,
       "version_minor": 0
      },
      "text/plain": [
       "HTML(value='-1 examples annotated, 3 examples left')"
      ]
     },
     "metadata": {},
     "output_type": "display_data"
    },
    {
     "data": {
      "application/vnd.jupyter.widget-view+json": {
       "model_id": "6bd5fbebc1a54deeb91c5a0dca339fd8",
       "version_major": 2,
       "version_minor": 0
      },
      "text/plain": [
       "Text(value='', description='NOME_PRODUTO', layout=Layout(width='auto'), placeholder='ent one, ent two, ent thr…"
      ]
     },
     "metadata": {},
     "output_type": "display_data"
    },
    {
     "data": {
      "application/vnd.jupyter.widget-view+json": {
       "model_id": "b2578e7f37744ad7a5002118f8613cf1",
       "version_major": 2,
       "version_minor": 0
      },
      "text/plain": [
       "Text(value='', description='MARCA', layout=Layout(width='auto'), placeholder='ent one, ent two, ent three')"
      ]
     },
     "metadata": {},
     "output_type": "display_data"
    },
    {
     "data": {
      "application/vnd.jupyter.widget-view+json": {
       "model_id": "13366d1d8c8d45d793adb36c0e3764dd",
       "version_major": 2,
       "version_minor": 0
      },
      "text/plain": [
       "Text(value='', description='CAPACIDADE', layout=Layout(width='auto'), placeholder='ent one, ent two, ent three…"
      ]
     },
     "metadata": {},
     "output_type": "display_data"
    },
    {
     "data": {
      "application/vnd.jupyter.widget-view+json": {
       "model_id": "0d5c3a6b33b3441884fd9e88699efc9d",
       "version_major": 2,
       "version_minor": 0
      },
      "text/plain": [
       "HBox(children=(Button(button_style='success', description='submit', style=ButtonStyle()), Button(button_style=…"
      ]
     },
     "metadata": {},
     "output_type": "display_data"
    },
    {
     "data": {
      "application/vnd.jupyter.widget-view+json": {
       "model_id": "0f033ce4dd64428d9177279ef196cc03",
       "version_major": 2,
       "version_minor": 0
      },
      "text/plain": [
       "Output()"
      ]
     },
     "metadata": {},
     "output_type": "display_data"
    }
   ],
   "source": [
    "df_labels = annotator.annotate(df=df, col_text='text')"
   ]
  },
  {
   "cell_type": "code",
   "execution_count": 8,
   "metadata": {},
   "outputs": [
    {
     "data": {
      "text/plain": [
       "[('iPhone 11 64GB iOS Câmera 12MP - Apple',\n",
       "  {'entities': [(0, 6, 'NOME_PRODUTO'),\n",
       "    (33, 38, 'MARCA'),\n",
       "    (10, 14, 'CAPACIDADE')]}),\n",
       " ('iPhone 15 Pro Max 1TB iOS 5G Wi-Fi Tela 6,7 - Apple',\n",
       "  {'entities': [(0, 9, 'NOME_PRODUTO'),\n",
       "    (46, 51, 'MARCA'),\n",
       "    (18, 21, 'CAPACIDADE')]})]"
      ]
     },
     "execution_count": 8,
     "metadata": {},
     "output_type": "execute_result"
    }
   ],
   "source": [
    "list(df_labels.annotations)"
   ]
  },
  {
   "cell_type": "code",
   "execution_count": null,
   "metadata": {},
   "outputs": [],
   "source": []
  }
 ],
 "metadata": {
  "kernelspec": {
   "display_name": "base",
   "language": "python",
   "name": "python3"
  },
  "language_info": {
   "codemirror_mode": {
    "name": "ipython",
    "version": 3
   },
   "file_extension": ".py",
   "mimetype": "text/x-python",
   "name": "python",
   "nbconvert_exporter": "python",
   "pygments_lexer": "ipython3",
   "version": "3.11.7"
  }
 },
 "nbformat": 4,
 "nbformat_minor": 2
}
